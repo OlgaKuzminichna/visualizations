{
 "cells": [
  {
   "cell_type": "markdown",
   "metadata": {},
   "source": [
    "# Eurovision"
   ]
  },
  {
   "cell_type": "markdown",
   "metadata": {},
   "source": [
    "## Webscrape Data from Wikipedia"
   ]
  },
  {
   "cell_type": "code",
   "execution_count": null,
   "metadata": {},
   "outputs": [
    {
     "name": "stdout",
     "output_type": "stream",
     "text": [
      "     First TD Value Colspan Background Color     Meaning\n",
      "458       BelgienBE       4          #808080       Final\n",
      "459       BelgienBE      10          #808080       Final\n",
      "460       BelgienBE      10          #808080       Final\n",
      "461       BelgienBE       6          #808080       Final\n",
      "462       BelgienBE       1          #FFFF40         Won\n",
      "...             ...     ...              ...         ...\n",
      "1942   AustralienAU       5          #808080       Final\n",
      "1943   AustralienAU       1          #C0C0C0       Covid\n",
      "1944   AustralienAU       1          #B3B7FF  Semifinale\n",
      "1945   AustralienAU       2          #808080       Final\n",
      "1946   AustralienAU       1          #B3B7FF  Semifinale\n",
      "\n",
      "[1030 rows x 4 columns]\n"
     ]
    }
   ],
   "source": [
    "from bs4 import BeautifulSoup\n",
    "import requests\n",
    "import pandas as pd\n",
    "URL = \"https://de.wikipedia.org/wiki/Eurovision_Song_Contest#L%C3%A4nderstatistik\"\n",
    "\n",
    "page = requests.get(URL).text\n",
    "soup = BeautifulSoup(page, 'html.parser')\n",
    "\n",
    "df = []\n",
    "for tr in soup.find_all('tr'):\n",
    "    tds = tr.find_all('td')\n",
    "    if tds:\n",
    "        first_td_value = tds[0].get_text(strip=True)\n",
    "        for td in tds:\n",
    "            colspan = td.get('colspan', '')  \n",
    "            bg_color = td.get('style', '').split('background:')[1].split(';')[0] if 'background:' in td.get('style', '') else None\n",
    "            df.append({\n",
    "                'First TD Value': first_td_value,\n",
    "                'Colspan': colspan,\n",
    "                'Background Color': bg_color\n",
    "            })\n",
    "\n",
    "df = pd.DataFrame(df)\n",
    "\n",
    "color_meanings = {\n",
    "    '#808080': 'Final',\n",
    "    '#FFFF40': 'Won',\n",
    "    '#FFCBCB': 'Abgesagt',\n",
    "    '#B3B7FF': 'Semifinale',\n",
    "    '#C0C0C0': 'Covid',\n",
    "    '#B9FFC5': 'Delete',\n",
    "    '#EAECF0': 'Did not participate'\n",
    "}\n",
    "\n",
    "df = df.dropna(subset=['Colspan', 'Background Color'])  \n",
    "df = df[(df['Colspan'].astype(str).str.strip() != '') & \n",
    "        (df['Background Color'].astype(str).str.strip() != '') & \n",
    "        (~df['First TD Value'].isin(['Teil-nehmer', '50er']))]\n",
    "df['Meaning'] = df['Background Color'].map(color_meanings)\n",
    "df = df.drop(index=544, errors='ignore')\n",
    "print(df)"
   ]
  },
  {
   "cell_type": "code",
   "execution_count": null,
   "metadata": {},
   "outputs": [],
   "source": [
    "start_year = 1956\n",
    "\n",
    "# Create an empty list to store expanded data\n",
    "expanded_data = []\n",
    "\n",
    "# Group the DataFrame by 'First TD Value' (Country)\n",
    "for country, group in df.groupby('First TD Value'):\n",
    "    current_year = start_year  # Reset the year for each new country\n",
    "    \n",
    "    # Iterate over each row for the current country\n",
    "    for index, row in group.iterrows():\n",
    "        try:\n",
    "            # Convert colspan to an integer\n",
    "            years_to_expand = int(row['Colspan'])\n",
    "        except ValueError:\n",
    "            # Skip rows where Colspan is not a valid integer\n",
    "            continue\n",
    "\n",
    "        # Expand the row for each year in the colspan\n",
    "        for _ in range(years_to_expand):\n",
    "            expanded_data.append({\n",
    "                'Country': row['First TD Value'],\n",
    "                'Year': current_year,\n",
    "                'Background Color': row['Background Color'],\n",
    "                'Meaning': row['Meaning']\n",
    "            })\n",
    "            current_year += 1  # Increment the year for the next expansion\n",
    "\n",
    "# Create the new expanded DataFrame\n",
    "expanded_df = pd.DataFrame(expanded_data)\n",
    "\n",
    "# Display the expanded dataset\n",
    "print(expanded_df)"
   ]
  }
 ],
 "metadata": {
  "kernelspec": {
   "display_name": "Python 3",
   "language": "python",
   "name": "python3"
  },
  "language_info": {
   "codemirror_mode": {
    "name": "ipython",
    "version": 3
   },
   "file_extension": ".py",
   "mimetype": "text/x-python",
   "name": "python",
   "nbconvert_exporter": "python",
   "pygments_lexer": "ipython3",
   "version": "3.12.6"
  }
 },
 "nbformat": 4,
 "nbformat_minor": 2
}
